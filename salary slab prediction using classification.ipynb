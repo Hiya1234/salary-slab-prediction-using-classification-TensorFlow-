{
 "cells": [
  {
   "cell_type": "code",
   "execution_count": 1,
   "metadata": {},
   "outputs": [],
   "source": [
    "import pandas as pd"
   ]
  },
  {
   "cell_type": "code",
   "execution_count": 2,
   "metadata": {},
   "outputs": [],
   "source": [
    "data=pd.read_csv('salary_data.csv')"
   ]
  },
  {
   "cell_type": "code",
   "execution_count": 9,
   "metadata": {
    "collapsed": true
   },
   "outputs": [
    {
     "data": {
      "text/html": [
       "<div>\n",
       "<style scoped>\n",
       "    .dataframe tbody tr th:only-of-type {\n",
       "        vertical-align: middle;\n",
       "    }\n",
       "\n",
       "    .dataframe tbody tr th {\n",
       "        vertical-align: top;\n",
       "    }\n",
       "\n",
       "    .dataframe thead th {\n",
       "        text-align: right;\n",
       "    }\n",
       "</style>\n",
       "<table border=\"1\" class=\"dataframe\">\n",
       "  <thead>\n",
       "    <tr style=\"text-align: right;\">\n",
       "      <th></th>\n",
       "      <th>age</th>\n",
       "      <th>workclass</th>\n",
       "      <th>education</th>\n",
       "      <th>education_num</th>\n",
       "      <th>marital_status</th>\n",
       "      <th>occupation</th>\n",
       "      <th>relationship</th>\n",
       "      <th>race</th>\n",
       "      <th>gender</th>\n",
       "      <th>capital_gain</th>\n",
       "      <th>capital_loss</th>\n",
       "      <th>hours_per_week</th>\n",
       "      <th>native_country</th>\n",
       "      <th>income_bracket</th>\n",
       "    </tr>\n",
       "  </thead>\n",
       "  <tbody>\n",
       "    <tr>\n",
       "      <th>0</th>\n",
       "      <td>39</td>\n",
       "      <td>State-gov</td>\n",
       "      <td>Bachelors</td>\n",
       "      <td>13</td>\n",
       "      <td>Never-married</td>\n",
       "      <td>Adm-clerical</td>\n",
       "      <td>Not-in-family</td>\n",
       "      <td>White</td>\n",
       "      <td>Male</td>\n",
       "      <td>2174</td>\n",
       "      <td>0</td>\n",
       "      <td>40</td>\n",
       "      <td>United-States</td>\n",
       "      <td>0</td>\n",
       "    </tr>\n",
       "    <tr>\n",
       "      <th>1</th>\n",
       "      <td>50</td>\n",
       "      <td>Self-emp-not-inc</td>\n",
       "      <td>Bachelors</td>\n",
       "      <td>13</td>\n",
       "      <td>Married-civ-spouse</td>\n",
       "      <td>Exec-managerial</td>\n",
       "      <td>Husband</td>\n",
       "      <td>White</td>\n",
       "      <td>Male</td>\n",
       "      <td>0</td>\n",
       "      <td>0</td>\n",
       "      <td>13</td>\n",
       "      <td>United-States</td>\n",
       "      <td>0</td>\n",
       "    </tr>\n",
       "    <tr>\n",
       "      <th>2</th>\n",
       "      <td>38</td>\n",
       "      <td>Private</td>\n",
       "      <td>HS-grad</td>\n",
       "      <td>9</td>\n",
       "      <td>Divorced</td>\n",
       "      <td>Handlers-cleaners</td>\n",
       "      <td>Not-in-family</td>\n",
       "      <td>White</td>\n",
       "      <td>Male</td>\n",
       "      <td>0</td>\n",
       "      <td>0</td>\n",
       "      <td>40</td>\n",
       "      <td>United-States</td>\n",
       "      <td>0</td>\n",
       "    </tr>\n",
       "    <tr>\n",
       "      <th>3</th>\n",
       "      <td>53</td>\n",
       "      <td>Private</td>\n",
       "      <td>11th</td>\n",
       "      <td>7</td>\n",
       "      <td>Married-civ-spouse</td>\n",
       "      <td>Handlers-cleaners</td>\n",
       "      <td>Husband</td>\n",
       "      <td>Black</td>\n",
       "      <td>Male</td>\n",
       "      <td>0</td>\n",
       "      <td>0</td>\n",
       "      <td>40</td>\n",
       "      <td>United-States</td>\n",
       "      <td>0</td>\n",
       "    </tr>\n",
       "    <tr>\n",
       "      <th>4</th>\n",
       "      <td>28</td>\n",
       "      <td>Private</td>\n",
       "      <td>Bachelors</td>\n",
       "      <td>13</td>\n",
       "      <td>Married-civ-spouse</td>\n",
       "      <td>Prof-specialty</td>\n",
       "      <td>Wife</td>\n",
       "      <td>Black</td>\n",
       "      <td>Female</td>\n",
       "      <td>0</td>\n",
       "      <td>0</td>\n",
       "      <td>40</td>\n",
       "      <td>Cuba</td>\n",
       "      <td>0</td>\n",
       "    </tr>\n",
       "  </tbody>\n",
       "</table>\n",
       "</div>"
      ],
      "text/plain": [
       "   age          workclass   education  education_num       marital_status  \\\n",
       "0   39          State-gov   Bachelors             13        Never-married   \n",
       "1   50   Self-emp-not-inc   Bachelors             13   Married-civ-spouse   \n",
       "2   38            Private     HS-grad              9             Divorced   \n",
       "3   53            Private        11th              7   Married-civ-spouse   \n",
       "4   28            Private   Bachelors             13   Married-civ-spouse   \n",
       "\n",
       "           occupation    relationship    race   gender  capital_gain  \\\n",
       "0        Adm-clerical   Not-in-family   White     Male          2174   \n",
       "1     Exec-managerial         Husband   White     Male             0   \n",
       "2   Handlers-cleaners   Not-in-family   White     Male             0   \n",
       "3   Handlers-cleaners         Husband   Black     Male             0   \n",
       "4      Prof-specialty            Wife   Black   Female             0   \n",
       "\n",
       "   capital_loss  hours_per_week  native_country  income_bracket  \n",
       "0             0              40   United-States               0  \n",
       "1             0              13   United-States               0  \n",
       "2             0              40   United-States               0  \n",
       "3             0              40   United-States               0  \n",
       "4             0              40            Cuba               0  "
      ]
     },
     "execution_count": 9,
     "metadata": {},
     "output_type": "execute_result"
    }
   ],
   "source": [
    "data.head()"
   ]
  },
  {
   "cell_type": "code",
   "execution_count": 4,
   "metadata": {},
   "outputs": [
    {
     "data": {
      "text/plain": [
       "array([' <=50K', ' >50K'], dtype=object)"
      ]
     },
     "execution_count": 4,
     "metadata": {},
     "output_type": "execute_result"
    }
   ],
   "source": [
    "data['income_bracket'].unique()"
   ]
  },
  {
   "cell_type": "code",
   "execution_count": 5,
   "metadata": {},
   "outputs": [],
   "source": [
    "def label_fix(label):\n",
    "    if label == ' <=50K':\n",
    "        return 0\n",
    "    else:\n",
    "        return 1"
   ]
  },
  {
   "cell_type": "code",
   "execution_count": 6,
   "metadata": {},
   "outputs": [],
   "source": [
    "data['income_bracket']=data.income_bracket.apply(label_fix)"
   ]
  },
  {
   "cell_type": "code",
   "execution_count": 8,
   "metadata": {
    "collapsed": true
   },
   "outputs": [
    {
     "data": {
      "text/html": [
       "<div>\n",
       "<style scoped>\n",
       "    .dataframe tbody tr th:only-of-type {\n",
       "        vertical-align: middle;\n",
       "    }\n",
       "\n",
       "    .dataframe tbody tr th {\n",
       "        vertical-align: top;\n",
       "    }\n",
       "\n",
       "    .dataframe thead th {\n",
       "        text-align: right;\n",
       "    }\n",
       "</style>\n",
       "<table border=\"1\" class=\"dataframe\">\n",
       "  <thead>\n",
       "    <tr style=\"text-align: right;\">\n",
       "      <th></th>\n",
       "      <th>age</th>\n",
       "      <th>workclass</th>\n",
       "      <th>education</th>\n",
       "      <th>education_num</th>\n",
       "      <th>marital_status</th>\n",
       "      <th>occupation</th>\n",
       "      <th>relationship</th>\n",
       "      <th>race</th>\n",
       "      <th>gender</th>\n",
       "      <th>capital_gain</th>\n",
       "      <th>capital_loss</th>\n",
       "      <th>hours_per_week</th>\n",
       "      <th>native_country</th>\n",
       "      <th>income_bracket</th>\n",
       "    </tr>\n",
       "  </thead>\n",
       "  <tbody>\n",
       "    <tr>\n",
       "      <th>0</th>\n",
       "      <td>39</td>\n",
       "      <td>State-gov</td>\n",
       "      <td>Bachelors</td>\n",
       "      <td>13</td>\n",
       "      <td>Never-married</td>\n",
       "      <td>Adm-clerical</td>\n",
       "      <td>Not-in-family</td>\n",
       "      <td>White</td>\n",
       "      <td>Male</td>\n",
       "      <td>2174</td>\n",
       "      <td>0</td>\n",
       "      <td>40</td>\n",
       "      <td>United-States</td>\n",
       "      <td>0</td>\n",
       "    </tr>\n",
       "    <tr>\n",
       "      <th>1</th>\n",
       "      <td>50</td>\n",
       "      <td>Self-emp-not-inc</td>\n",
       "      <td>Bachelors</td>\n",
       "      <td>13</td>\n",
       "      <td>Married-civ-spouse</td>\n",
       "      <td>Exec-managerial</td>\n",
       "      <td>Husband</td>\n",
       "      <td>White</td>\n",
       "      <td>Male</td>\n",
       "      <td>0</td>\n",
       "      <td>0</td>\n",
       "      <td>13</td>\n",
       "      <td>United-States</td>\n",
       "      <td>0</td>\n",
       "    </tr>\n",
       "    <tr>\n",
       "      <th>2</th>\n",
       "      <td>38</td>\n",
       "      <td>Private</td>\n",
       "      <td>HS-grad</td>\n",
       "      <td>9</td>\n",
       "      <td>Divorced</td>\n",
       "      <td>Handlers-cleaners</td>\n",
       "      <td>Not-in-family</td>\n",
       "      <td>White</td>\n",
       "      <td>Male</td>\n",
       "      <td>0</td>\n",
       "      <td>0</td>\n",
       "      <td>40</td>\n",
       "      <td>United-States</td>\n",
       "      <td>0</td>\n",
       "    </tr>\n",
       "    <tr>\n",
       "      <th>3</th>\n",
       "      <td>53</td>\n",
       "      <td>Private</td>\n",
       "      <td>11th</td>\n",
       "      <td>7</td>\n",
       "      <td>Married-civ-spouse</td>\n",
       "      <td>Handlers-cleaners</td>\n",
       "      <td>Husband</td>\n",
       "      <td>Black</td>\n",
       "      <td>Male</td>\n",
       "      <td>0</td>\n",
       "      <td>0</td>\n",
       "      <td>40</td>\n",
       "      <td>United-States</td>\n",
       "      <td>0</td>\n",
       "    </tr>\n",
       "    <tr>\n",
       "      <th>4</th>\n",
       "      <td>28</td>\n",
       "      <td>Private</td>\n",
       "      <td>Bachelors</td>\n",
       "      <td>13</td>\n",
       "      <td>Married-civ-spouse</td>\n",
       "      <td>Prof-specialty</td>\n",
       "      <td>Wife</td>\n",
       "      <td>Black</td>\n",
       "      <td>Female</td>\n",
       "      <td>0</td>\n",
       "      <td>0</td>\n",
       "      <td>40</td>\n",
       "      <td>Cuba</td>\n",
       "      <td>0</td>\n",
       "    </tr>\n",
       "  </tbody>\n",
       "</table>\n",
       "</div>"
      ],
      "text/plain": [
       "   age          workclass   education  education_num       marital_status  \\\n",
       "0   39          State-gov   Bachelors             13        Never-married   \n",
       "1   50   Self-emp-not-inc   Bachelors             13   Married-civ-spouse   \n",
       "2   38            Private     HS-grad              9             Divorced   \n",
       "3   53            Private        11th              7   Married-civ-spouse   \n",
       "4   28            Private   Bachelors             13   Married-civ-spouse   \n",
       "\n",
       "           occupation    relationship    race   gender  capital_gain  \\\n",
       "0        Adm-clerical   Not-in-family   White     Male          2174   \n",
       "1     Exec-managerial         Husband   White     Male             0   \n",
       "2   Handlers-cleaners   Not-in-family   White     Male             0   \n",
       "3   Handlers-cleaners         Husband   Black     Male             0   \n",
       "4      Prof-specialty            Wife   Black   Female             0   \n",
       "\n",
       "   capital_loss  hours_per_week  native_country  income_bracket  \n",
       "0             0              40   United-States               0  \n",
       "1             0              13   United-States               0  \n",
       "2             0              40   United-States               0  \n",
       "3             0              40   United-States               0  \n",
       "4             0              40            Cuba               0  "
      ]
     },
     "execution_count": 8,
     "metadata": {},
     "output_type": "execute_result"
    }
   ],
   "source": [
    "data.head()"
   ]
  },
  {
   "cell_type": "code",
   "execution_count": 10,
   "metadata": {},
   "outputs": [],
   "source": [
    "from sklearn.model_selection import train_test_split"
   ]
  },
  {
   "cell_type": "code",
   "execution_count": 11,
   "metadata": {},
   "outputs": [],
   "source": [
    "x_data=data.drop('income_bracket',axis=1)"
   ]
  },
  {
   "cell_type": "code",
   "execution_count": 12,
   "metadata": {},
   "outputs": [],
   "source": [
    "y_label=data['income_bracket']"
   ]
  },
  {
   "cell_type": "code",
   "execution_count": 13,
   "metadata": {},
   "outputs": [],
   "source": [
    "x_train, x_test, y_train, y_test = train_test_split(x_data, y_label, test_size=0.3, random_state=101)"
   ]
  },
  {
   "cell_type": "code",
   "execution_count": 15,
   "metadata": {},
   "outputs": [
    {
     "data": {
      "text/html": [
       "<div>\n",
       "<style scoped>\n",
       "    .dataframe tbody tr th:only-of-type {\n",
       "        vertical-align: middle;\n",
       "    }\n",
       "\n",
       "    .dataframe tbody tr th {\n",
       "        vertical-align: top;\n",
       "    }\n",
       "\n",
       "    .dataframe thead th {\n",
       "        text-align: right;\n",
       "    }\n",
       "</style>\n",
       "<table border=\"1\" class=\"dataframe\">\n",
       "  <thead>\n",
       "    <tr style=\"text-align: right;\">\n",
       "      <th></th>\n",
       "      <th>age</th>\n",
       "      <th>workclass</th>\n",
       "      <th>education</th>\n",
       "      <th>education_num</th>\n",
       "      <th>marital_status</th>\n",
       "      <th>occupation</th>\n",
       "      <th>relationship</th>\n",
       "      <th>race</th>\n",
       "      <th>gender</th>\n",
       "      <th>capital_gain</th>\n",
       "      <th>capital_loss</th>\n",
       "      <th>hours_per_week</th>\n",
       "      <th>native_country</th>\n",
       "    </tr>\n",
       "  </thead>\n",
       "  <tbody>\n",
       "    <tr>\n",
       "      <th>20895</th>\n",
       "      <td>22</td>\n",
       "      <td>Private</td>\n",
       "      <td>HS-grad</td>\n",
       "      <td>9</td>\n",
       "      <td>Never-married</td>\n",
       "      <td>Adm-clerical</td>\n",
       "      <td>Own-child</td>\n",
       "      <td>White</td>\n",
       "      <td>Female</td>\n",
       "      <td>0</td>\n",
       "      <td>0</td>\n",
       "      <td>28</td>\n",
       "      <td>United-States</td>\n",
       "    </tr>\n",
       "    <tr>\n",
       "      <th>3384</th>\n",
       "      <td>47</td>\n",
       "      <td>Private</td>\n",
       "      <td>HS-grad</td>\n",
       "      <td>9</td>\n",
       "      <td>Married-civ-spouse</td>\n",
       "      <td>Machine-op-inspct</td>\n",
       "      <td>Wife</td>\n",
       "      <td>Black</td>\n",
       "      <td>Female</td>\n",
       "      <td>15024</td>\n",
       "      <td>0</td>\n",
       "      <td>40</td>\n",
       "      <td>United-States</td>\n",
       "    </tr>\n",
       "    <tr>\n",
       "      <th>1832</th>\n",
       "      <td>46</td>\n",
       "      <td>Local-gov</td>\n",
       "      <td>Some-college</td>\n",
       "      <td>10</td>\n",
       "      <td>Married-civ-spouse</td>\n",
       "      <td>Prof-specialty</td>\n",
       "      <td>Husband</td>\n",
       "      <td>White</td>\n",
       "      <td>Male</td>\n",
       "      <td>0</td>\n",
       "      <td>0</td>\n",
       "      <td>24</td>\n",
       "      <td>United-States</td>\n",
       "    </tr>\n",
       "    <tr>\n",
       "      <th>18919</th>\n",
       "      <td>46</td>\n",
       "      <td>State-gov</td>\n",
       "      <td>Some-college</td>\n",
       "      <td>10</td>\n",
       "      <td>Divorced</td>\n",
       "      <td>Adm-clerical</td>\n",
       "      <td>Unmarried</td>\n",
       "      <td>White</td>\n",
       "      <td>Female</td>\n",
       "      <td>0</td>\n",
       "      <td>0</td>\n",
       "      <td>48</td>\n",
       "      <td>United-States</td>\n",
       "    </tr>\n",
       "    <tr>\n",
       "      <th>31685</th>\n",
       "      <td>60</td>\n",
       "      <td>Private</td>\n",
       "      <td>HS-grad</td>\n",
       "      <td>9</td>\n",
       "      <td>Married-civ-spouse</td>\n",
       "      <td>Adm-clerical</td>\n",
       "      <td>Husband</td>\n",
       "      <td>White</td>\n",
       "      <td>Male</td>\n",
       "      <td>0</td>\n",
       "      <td>0</td>\n",
       "      <td>40</td>\n",
       "      <td>United-States</td>\n",
       "    </tr>\n",
       "  </tbody>\n",
       "</table>\n",
       "</div>"
      ],
      "text/plain": [
       "       age   workclass      education  education_num       marital_status  \\\n",
       "20895   22     Private        HS-grad              9        Never-married   \n",
       "3384    47     Private        HS-grad              9   Married-civ-spouse   \n",
       "1832    46   Local-gov   Some-college             10   Married-civ-spouse   \n",
       "18919   46   State-gov   Some-college             10             Divorced   \n",
       "31685   60     Private        HS-grad              9   Married-civ-spouse   \n",
       "\n",
       "               occupation relationship    race   gender  capital_gain  \\\n",
       "20895        Adm-clerical    Own-child   White   Female             0   \n",
       "3384    Machine-op-inspct         Wife   Black   Female         15024   \n",
       "1832       Prof-specialty      Husband   White     Male             0   \n",
       "18919        Adm-clerical    Unmarried   White   Female             0   \n",
       "31685        Adm-clerical      Husband   White     Male             0   \n",
       "\n",
       "       capital_loss  hours_per_week  native_country  \n",
       "20895             0              28   United-States  \n",
       "3384              0              40   United-States  \n",
       "1832              0              24   United-States  \n",
       "18919             0              48   United-States  \n",
       "31685             0              40   United-States  "
      ]
     },
     "execution_count": 15,
     "metadata": {},
     "output_type": "execute_result"
    }
   ],
   "source": [
    "x_train.head()"
   ]
  },
  {
   "cell_type": "code",
   "execution_count": 16,
   "metadata": {},
   "outputs": [
    {
     "data": {
      "text/plain": [
       "20895    0\n",
       "3384     1\n",
       "1832     0\n",
       "18919    0\n",
       "31685    0\n",
       "Name: income_bracket, dtype: int64"
      ]
     },
     "execution_count": 16,
     "metadata": {},
     "output_type": "execute_result"
    }
   ],
   "source": [
    "y_train.head()"
   ]
  },
  {
   "cell_type": "code",
   "execution_count": 17,
   "metadata": {},
   "outputs": [
    {
     "data": {
      "text/plain": [
       "Index(['age', 'workclass', 'education', 'education_num', 'marital_status',\n",
       "       'occupation', 'relationship', 'race', 'gender', 'capital_gain',\n",
       "       'capital_loss', 'hours_per_week', 'native_country', 'income_bracket'],\n",
       "      dtype='object')"
      ]
     },
     "execution_count": 17,
     "metadata": {},
     "output_type": "execute_result"
    }
   ],
   "source": [
    "data.columns"
   ]
  },
  {
   "cell_type": "code",
   "execution_count": 18,
   "metadata": {},
   "outputs": [],
   "source": [
    "import tensorflow as tf"
   ]
  },
  {
   "cell_type": "code",
   "execution_count": 19,
   "metadata": {},
   "outputs": [],
   "source": [
    "gender=tf.feature_column.categorical_column_with_vocabulary_list(\"gender\",[\"Female\",\"Male\"])"
   ]
  },
  {
   "cell_type": "code",
   "execution_count": 20,
   "metadata": {},
   "outputs": [],
   "source": [
    "occp=tf.feature_column.categorical_column_with_hash_bucket(\"occupation\",hash_bucket_size=1000)"
   ]
  },
  {
   "cell_type": "code",
   "execution_count": 21,
   "metadata": {},
   "outputs": [],
   "source": [
    "marital_status = tf.feature_column.categorical_column_with_hash_bucket(\"marital_status\", hash_bucket_size=1000)\n",
    "relationship = tf.feature_column.categorical_column_with_hash_bucket(\"relationship\", hash_bucket_size=1000)\n",
    "education = tf.feature_column.categorical_column_with_hash_bucket(\"education\", hash_bucket_size=1000)\n",
    "workclass = tf.feature_column.categorical_column_with_hash_bucket(\"workclass\", hash_bucket_size=1000)\n",
    "native_country = tf.feature_column.categorical_column_with_hash_bucket(\"native_country\", hash_bucket_size=1000)"
   ]
  },
  {
   "cell_type": "code",
   "execution_count": 22,
   "metadata": {},
   "outputs": [],
   "source": [
    "age = tf.feature_column.numeric_column(\"age\")\n",
    "education_num = tf.feature_column.numeric_column(\"education_num\")\n",
    "capital_gain = tf.feature_column.numeric_column(\"capital_gain\")\n",
    "capital_loss = tf.feature_column.numeric_column(\"capital_loss\")\n",
    "hours_per_week = tf.feature_column.numeric_column(\"hours_per_week\")"
   ]
  },
  {
   "cell_type": "code",
   "execution_count": 24,
   "metadata": {},
   "outputs": [],
   "source": [
    "feat_cols=[gender,occp,marital_status,relationship,education,workclass,native_country,age,\n",
    "            education_num,capital_gain,capital_loss,hours_per_week]"
   ]
  },
  {
   "cell_type": "code",
   "execution_count": 25,
   "metadata": {},
   "outputs": [],
   "source": [
    "input_fun=tf.estimator.inputs.pandas_input_fn(x_train,y_train,batch_size=10,num_epochs=None,shuffle=True)"
   ]
  },
  {
   "cell_type": "code",
   "execution_count": 26,
   "metadata": {
    "collapsed": true
   },
   "outputs": [
    {
     "name": "stdout",
     "output_type": "stream",
     "text": [
      "INFO:tensorflow:Using default config.\n",
      "WARNING:tensorflow:Using temporary folder as model directory: C:\\Users\\HIYANA~1\\AppData\\Local\\Temp\\tmpnuii7xvh\n",
      "INFO:tensorflow:Using config: {'_model_dir': 'C:\\\\Users\\\\HIYANA~1\\\\AppData\\\\Local\\\\Temp\\\\tmpnuii7xvh', '_tf_random_seed': None, '_save_summary_steps': 100, '_save_checkpoints_steps': None, '_save_checkpoints_secs': 600, '_session_config': allow_soft_placement: true\n",
      "graph_options {\n",
      "  rewrite_options {\n",
      "    meta_optimizer_iterations: ONE\n",
      "  }\n",
      "}\n",
      ", '_keep_checkpoint_max': 5, '_keep_checkpoint_every_n_hours': 10000, '_log_step_count_steps': 100, '_train_distribute': None, '_device_fn': None, '_protocol': None, '_eval_distribute': None, '_experimental_distribute': None, '_experimental_max_worker_delay_secs': None, '_session_creation_timeout_secs': 7200, '_service': None, '_cluster_spec': <tensorflow.python.training.server_lib.ClusterSpec object at 0x0000023498EEBD68>, '_task_type': 'worker', '_task_id': 0, '_global_id_in_cluster': 0, '_master': '', '_evaluation_master': '', '_is_chief': True, '_num_ps_replicas': 0, '_num_worker_replicas': 1}\n"
     ]
    }
   ],
   "source": [
    "model=tf.estimator.LinearClassifier(feature_columns=feat_cols)"
   ]
  },
  {
   "cell_type": "code",
   "execution_count": 27,
   "metadata": {
    "collapsed": true
   },
   "outputs": [
    {
     "name": "stdout",
     "output_type": "stream",
     "text": [
      "WARNING:tensorflow:From C:\\Users\\hiya namdeo\\Anaconda3\\lib\\site-packages\\tensorflow_core\\python\\training\\training_util.py:236: Variable.initialized_value (from tensorflow.python.ops.variables) is deprecated and will be removed in a future version.\n",
      "Instructions for updating:\n",
      "Use Variable.read_value. Variables in 2.X are initialized automatically both in eager and graph (inside tf.defun) contexts.\n",
      "WARNING:tensorflow:From C:\\Users\\hiya namdeo\\Anaconda3\\lib\\site-packages\\tensorflow_estimator\\python\\estimator\\inputs\\queues\\feeding_queue_runner.py:62: QueueRunner.__init__ (from tensorflow.python.training.queue_runner_impl) is deprecated and will be removed in a future version.\n",
      "Instructions for updating:\n",
      "To construct input pipelines, use the `tf.data` module.\n",
      "WARNING:tensorflow:From C:\\Users\\hiya namdeo\\Anaconda3\\lib\\site-packages\\tensorflow_estimator\\python\\estimator\\inputs\\queues\\feeding_functions.py:500: add_queue_runner (from tensorflow.python.training.queue_runner_impl) is deprecated and will be removed in a future version.\n",
      "Instructions for updating:\n",
      "To construct input pipelines, use the `tf.data` module.\n",
      "INFO:tensorflow:Calling model_fn.\n",
      "WARNING:tensorflow:From C:\\Users\\hiya namdeo\\Anaconda3\\lib\\site-packages\\tensorflow_core\\python\\feature_column\\feature_column_v2.py:305: Layer.add_variable (from tensorflow.python.keras.engine.base_layer) is deprecated and will be removed in a future version.\n",
      "Instructions for updating:\n",
      "Please use `layer.add_weight` method instead.\n",
      "WARNING:tensorflow:From C:\\Users\\hiya namdeo\\Anaconda3\\lib\\site-packages\\tensorflow_core\\python\\ops\\resource_variable_ops.py:1630: calling BaseResourceVariable.__init__ (from tensorflow.python.ops.resource_variable_ops) with constraint is deprecated and will be removed in a future version.\n",
      "Instructions for updating:\n",
      "If using Keras pass *_constraint arguments to layers.\n",
      "WARNING:tensorflow:From C:\\Users\\hiya namdeo\\Anaconda3\\lib\\site-packages\\tensorflow_core\\python\\ops\\embedding_ops.py:802: where (from tensorflow.python.ops.array_ops) is deprecated and will be removed in a future version.\n",
      "Instructions for updating:\n",
      "Use tf.where in 2.0, which has the same broadcast rule as np.where\n",
      "WARNING:tensorflow:From C:\\Users\\hiya namdeo\\Anaconda3\\lib\\site-packages\\tensorflow_estimator\\python\\estimator\\canned\\linear.py:308: to_float (from tensorflow.python.ops.math_ops) is deprecated and will be removed in a future version.\n",
      "Instructions for updating:\n",
      "Use `tf.cast` instead.\n",
      "INFO:tensorflow:Done calling model_fn.\n",
      "INFO:tensorflow:Create CheckpointSaverHook.\n",
      "INFO:tensorflow:Graph was finalized.\n",
      "INFO:tensorflow:Running local_init_op.\n",
      "INFO:tensorflow:Done running local_init_op.\n",
      "WARNING:tensorflow:From C:\\Users\\hiya namdeo\\Anaconda3\\lib\\site-packages\\tensorflow_core\\python\\training\\monitored_session.py:882: start_queue_runners (from tensorflow.python.training.queue_runner_impl) is deprecated and will be removed in a future version.\n",
      "Instructions for updating:\n",
      "To construct input pipelines, use the `tf.data` module.\n",
      "INFO:tensorflow:Saving checkpoints for 0 into C:\\Users\\HIYANA~1\\AppData\\Local\\Temp\\tmpnuii7xvh\\model.ckpt.\n",
      "INFO:tensorflow:loss = 6.931472, step = 1\n",
      "INFO:tensorflow:global_step/sec: 161.28\n",
      "INFO:tensorflow:loss = 4.0114694, step = 101 (0.621 sec)\n",
      "INFO:tensorflow:global_step/sec: 351.244\n",
      "INFO:tensorflow:loss = 1.1512264, step = 201 (0.285 sec)\n",
      "INFO:tensorflow:global_step/sec: 338.785\n",
      "INFO:tensorflow:loss = 695.4363, step = 301 (0.294 sec)\n",
      "INFO:tensorflow:global_step/sec: 371.363\n",
      "INFO:tensorflow:loss = 2.644583, step = 401 (0.270 sec)\n",
      "INFO:tensorflow:global_step/sec: 295.324\n",
      "INFO:tensorflow:loss = 10.244844, step = 501 (0.339 sec)\n",
      "INFO:tensorflow:global_step/sec: 333.109\n",
      "INFO:tensorflow:loss = 133.56395, step = 601 (0.300 sec)\n",
      "INFO:tensorflow:global_step/sec: 332.423\n",
      "INFO:tensorflow:loss = 2.0974154, step = 701 (0.301 sec)\n",
      "INFO:tensorflow:global_step/sec: 330.907\n",
      "INFO:tensorflow:loss = 15.012342, step = 801 (0.302 sec)\n",
      "INFO:tensorflow:global_step/sec: 333.114\n",
      "INFO:tensorflow:loss = 9.219105, step = 901 (0.299 sec)\n",
      "INFO:tensorflow:global_step/sec: 327.249\n",
      "INFO:tensorflow:loss = 62.204334, step = 1001 (0.306 sec)\n",
      "INFO:tensorflow:global_step/sec: 302.878\n",
      "INFO:tensorflow:loss = 1.1734077, step = 1101 (0.330 sec)\n",
      "INFO:tensorflow:global_step/sec: 324.588\n",
      "INFO:tensorflow:loss = 177.23264, step = 1201 (0.309 sec)\n",
      "INFO:tensorflow:global_step/sec: 344.517\n",
      "INFO:tensorflow:loss = 18.863989, step = 1301 (0.290 sec)\n",
      "INFO:tensorflow:global_step/sec: 334.228\n",
      "INFO:tensorflow:loss = 27.275335, step = 1401 (0.299 sec)\n",
      "INFO:tensorflow:global_step/sec: 270.289\n",
      "INFO:tensorflow:loss = 26.22322, step = 1501 (0.370 sec)\n",
      "INFO:tensorflow:global_step/sec: 231.226\n",
      "INFO:tensorflow:loss = 2.0785654, step = 1601 (0.433 sec)\n",
      "INFO:tensorflow:global_step/sec: 235.545\n",
      "INFO:tensorflow:loss = 123.52733, step = 1701 (0.426 sec)\n",
      "INFO:tensorflow:global_step/sec: 232.082\n",
      "INFO:tensorflow:loss = 2.0639317, step = 1801 (0.431 sec)\n",
      "INFO:tensorflow:global_step/sec: 208.928\n",
      "INFO:tensorflow:loss = 22.986021, step = 1901 (0.479 sec)\n",
      "INFO:tensorflow:global_step/sec: 232.802\n",
      "INFO:tensorflow:loss = 1.529122, step = 2001 (0.436 sec)\n",
      "INFO:tensorflow:global_step/sec: 228.916\n",
      "INFO:tensorflow:loss = 5.2750864, step = 2101 (0.431 sec)\n",
      "INFO:tensorflow:global_step/sec: 220.872\n",
      "INFO:tensorflow:loss = 5.8253684, step = 2201 (0.455 sec)\n",
      "INFO:tensorflow:global_step/sec: 223.127\n",
      "INFO:tensorflow:loss = 1.205494, step = 2301 (0.445 sec)\n",
      "INFO:tensorflow:global_step/sec: 229.406\n",
      "INFO:tensorflow:loss = 5.275128, step = 2401 (0.437 sec)\n",
      "INFO:tensorflow:global_step/sec: 215.166\n",
      "INFO:tensorflow:loss = 2.3057137, step = 2501 (0.465 sec)\n",
      "INFO:tensorflow:global_step/sec: 216.197\n",
      "INFO:tensorflow:loss = 190.84747, step = 2601 (0.465 sec)\n",
      "INFO:tensorflow:global_step/sec: 213.937\n",
      "INFO:tensorflow:loss = 1.7439744, step = 2701 (0.467 sec)\n",
      "INFO:tensorflow:global_step/sec: 207.594\n",
      "INFO:tensorflow:loss = 1.9346191, step = 2801 (0.480 sec)\n",
      "INFO:tensorflow:global_step/sec: 216.48\n",
      "INFO:tensorflow:loss = 1.8271832, step = 2901 (0.465 sec)\n",
      "INFO:tensorflow:global_step/sec: 215.345\n",
      "INFO:tensorflow:loss = 1.3305296, step = 3001 (0.461 sec)\n",
      "INFO:tensorflow:global_step/sec: 237.625\n",
      "INFO:tensorflow:loss = 15.167666, step = 3101 (0.420 sec)\n",
      "INFO:tensorflow:global_step/sec: 228.903\n",
      "INFO:tensorflow:loss = 97.10033, step = 3201 (0.437 sec)\n",
      "INFO:tensorflow:global_step/sec: 247.977\n",
      "INFO:tensorflow:loss = 7.618217, step = 3301 (0.409 sec)\n",
      "INFO:tensorflow:global_step/sec: 244.553\n",
      "INFO:tensorflow:loss = 1.2644069, step = 3401 (0.404 sec)\n",
      "INFO:tensorflow:global_step/sec: 225.847\n",
      "INFO:tensorflow:loss = 0.88618803, step = 3501 (0.443 sec)\n",
      "INFO:tensorflow:global_step/sec: 194.109\n",
      "INFO:tensorflow:loss = 1.1791488, step = 3601 (0.515 sec)\n",
      "INFO:tensorflow:global_step/sec: 229.183\n",
      "INFO:tensorflow:loss = 0.9448985, step = 3701 (0.436 sec)\n",
      "INFO:tensorflow:global_step/sec: 221.341\n",
      "INFO:tensorflow:loss = 4.310155, step = 3801 (0.452 sec)\n",
      "INFO:tensorflow:global_step/sec: 231.562\n",
      "INFO:tensorflow:loss = 3.4309971, step = 3901 (0.432 sec)\n",
      "INFO:tensorflow:global_step/sec: 201.941\n",
      "INFO:tensorflow:loss = 2.1991367, step = 4001 (0.495 sec)\n",
      "INFO:tensorflow:global_step/sec: 212.448\n",
      "INFO:tensorflow:loss = 1.4632626, step = 4101 (0.475 sec)\n",
      "INFO:tensorflow:global_step/sec: 213.79\n",
      "INFO:tensorflow:loss = 1.5751126, step = 4201 (0.464 sec)\n",
      "INFO:tensorflow:global_step/sec: 220.098\n",
      "INFO:tensorflow:loss = 7.6889157, step = 4301 (0.454 sec)\n",
      "INFO:tensorflow:global_step/sec: 211.976\n",
      "INFO:tensorflow:loss = 12.778307, step = 4401 (0.472 sec)\n",
      "INFO:tensorflow:global_step/sec: 231.002\n",
      "INFO:tensorflow:loss = 2.4596934, step = 4501 (0.433 sec)\n",
      "INFO:tensorflow:global_step/sec: 245.997\n",
      "INFO:tensorflow:loss = 5.0807867, step = 4601 (0.406 sec)\n",
      "INFO:tensorflow:global_step/sec: 238.851\n",
      "INFO:tensorflow:loss = 6.6821003, step = 4701 (0.420 sec)\n",
      "INFO:tensorflow:global_step/sec: 213.075\n",
      "INFO:tensorflow:loss = 6.769185, step = 4801 (0.469 sec)\n",
      "INFO:tensorflow:global_step/sec: 232.619\n",
      "INFO:tensorflow:loss = 13.955142, step = 4901 (0.430 sec)\n",
      "INFO:tensorflow:global_step/sec: 218.276\n",
      "INFO:tensorflow:loss = 5.985962, step = 5001 (0.458 sec)\n",
      "INFO:tensorflow:global_step/sec: 230.445\n",
      "INFO:tensorflow:loss = 4.7612863, step = 5101 (0.436 sec)\n",
      "INFO:tensorflow:global_step/sec: 235.372\n"
     ]
    },
    {
     "name": "stdout",
     "output_type": "stream",
     "text": [
      "INFO:tensorflow:loss = 56.095375, step = 5201 (0.423 sec)\n",
      "INFO:tensorflow:global_step/sec: 206.311\n",
      "INFO:tensorflow:loss = 12.590854, step = 5301 (0.485 sec)\n",
      "INFO:tensorflow:global_step/sec: 234.335\n",
      "INFO:tensorflow:loss = 3.8056064, step = 5401 (0.425 sec)\n",
      "INFO:tensorflow:global_step/sec: 229.429\n",
      "INFO:tensorflow:loss = 4.113492, step = 5501 (0.436 sec)\n",
      "INFO:tensorflow:global_step/sec: 233.171\n",
      "INFO:tensorflow:loss = 3.120395, step = 5601 (0.432 sec)\n",
      "INFO:tensorflow:global_step/sec: 248.427\n",
      "INFO:tensorflow:loss = 1.9994392, step = 5701 (0.401 sec)\n",
      "INFO:tensorflow:global_step/sec: 223.376\n",
      "INFO:tensorflow:loss = 3.6095219, step = 5801 (0.448 sec)\n",
      "INFO:tensorflow:global_step/sec: 218.922\n",
      "INFO:tensorflow:loss = 15.160345, step = 5901 (0.457 sec)\n",
      "INFO:tensorflow:global_step/sec: 233.721\n",
      "INFO:tensorflow:loss = 13.607901, step = 6001 (0.430 sec)\n",
      "INFO:tensorflow:global_step/sec: 227.705\n",
      "INFO:tensorflow:loss = 6.9154453, step = 6101 (0.437 sec)\n",
      "INFO:tensorflow:global_step/sec: 220.521\n",
      "INFO:tensorflow:loss = 2.8567667, step = 6201 (0.454 sec)\n",
      "INFO:tensorflow:global_step/sec: 190.26\n",
      "INFO:tensorflow:loss = 0.90259343, step = 6301 (0.526 sec)\n",
      "INFO:tensorflow:global_step/sec: 240.592\n",
      "INFO:tensorflow:loss = 0.87927735, step = 6401 (0.416 sec)\n",
      "INFO:tensorflow:global_step/sec: 215.448\n",
      "INFO:tensorflow:loss = 3.2118602, step = 6501 (0.470 sec)\n",
      "INFO:tensorflow:global_step/sec: 207.578\n",
      "INFO:tensorflow:loss = 3.9537463, step = 6601 (0.475 sec)\n",
      "INFO:tensorflow:global_step/sec: 225.822\n",
      "INFO:tensorflow:loss = 3.7538347, step = 6701 (0.444 sec)\n",
      "INFO:tensorflow:global_step/sec: 232.399\n",
      "INFO:tensorflow:loss = 4.24251, step = 6801 (0.436 sec)\n",
      "INFO:tensorflow:global_step/sec: 234.944\n",
      "INFO:tensorflow:loss = 7.1408386, step = 6901 (0.419 sec)\n",
      "INFO:tensorflow:global_step/sec: 222.342\n",
      "INFO:tensorflow:loss = 3.8969898, step = 7001 (0.450 sec)\n",
      "INFO:tensorflow:global_step/sec: 223.533\n",
      "INFO:tensorflow:loss = 3.3533578, step = 7101 (0.447 sec)\n",
      "INFO:tensorflow:global_step/sec: 225.227\n",
      "INFO:tensorflow:loss = 4.6962004, step = 7201 (0.448 sec)\n",
      "INFO:tensorflow:global_step/sec: 244.714\n",
      "INFO:tensorflow:loss = 3.568164, step = 7301 (0.408 sec)\n",
      "INFO:tensorflow:global_step/sec: 219.885\n",
      "INFO:tensorflow:loss = 3.1870308, step = 7401 (0.453 sec)\n",
      "INFO:tensorflow:global_step/sec: 216.237\n",
      "INFO:tensorflow:loss = 3.0179613, step = 7501 (0.461 sec)\n",
      "INFO:tensorflow:global_step/sec: 236.131\n",
      "INFO:tensorflow:loss = 1.3437499, step = 7601 (0.431 sec)\n",
      "INFO:tensorflow:global_step/sec: 217.497\n",
      "INFO:tensorflow:loss = 2.1108832, step = 7701 (0.453 sec)\n",
      "INFO:tensorflow:global_step/sec: 230.622\n",
      "INFO:tensorflow:loss = 0.5430193, step = 7801 (0.434 sec)\n",
      "INFO:tensorflow:global_step/sec: 221.356\n",
      "INFO:tensorflow:loss = 4.0138354, step = 7901 (0.451 sec)\n",
      "INFO:tensorflow:global_step/sec: 239.874\n",
      "INFO:tensorflow:loss = 36.9202, step = 8001 (0.417 sec)\n",
      "INFO:tensorflow:global_step/sec: 233.18\n",
      "INFO:tensorflow:loss = 3.341742, step = 8101 (0.432 sec)\n",
      "INFO:tensorflow:global_step/sec: 232.435\n",
      "INFO:tensorflow:loss = 2.8782957, step = 8201 (0.434 sec)\n",
      "INFO:tensorflow:global_step/sec: 223.186\n",
      "INFO:tensorflow:loss = 3.216131, step = 8301 (0.442 sec)\n",
      "INFO:tensorflow:global_step/sec: 217.499\n",
      "INFO:tensorflow:loss = 1.924285, step = 8401 (0.460 sec)\n",
      "INFO:tensorflow:global_step/sec: 234.829\n",
      "INFO:tensorflow:loss = 7.8003373, step = 8501 (0.426 sec)\n",
      "INFO:tensorflow:global_step/sec: 236.383\n",
      "INFO:tensorflow:loss = 73.66438, step = 8601 (0.429 sec)\n",
      "INFO:tensorflow:global_step/sec: 213.785\n",
      "INFO:tensorflow:loss = 0.7139088, step = 8701 (0.462 sec)\n",
      "INFO:tensorflow:global_step/sec: 224.837\n",
      "INFO:tensorflow:loss = 7.797403, step = 8801 (0.445 sec)\n",
      "INFO:tensorflow:global_step/sec: 227.16\n",
      "INFO:tensorflow:loss = 4.6581497, step = 8901 (0.440 sec)\n",
      "INFO:tensorflow:global_step/sec: 222.322\n",
      "INFO:tensorflow:loss = 4.525242, step = 9001 (0.450 sec)\n",
      "INFO:tensorflow:global_step/sec: 249.441\n",
      "INFO:tensorflow:loss = 5.228727, step = 9101 (0.403 sec)\n",
      "INFO:tensorflow:global_step/sec: 209.01\n",
      "INFO:tensorflow:loss = 2.8825886, step = 9201 (0.476 sec)\n",
      "INFO:tensorflow:global_step/sec: 239.969\n",
      "INFO:tensorflow:loss = 7.7961764, step = 9301 (0.416 sec)\n",
      "INFO:tensorflow:global_step/sec: 234.823\n",
      "INFO:tensorflow:loss = 0.6618991, step = 9401 (0.431 sec)\n",
      "INFO:tensorflow:global_step/sec: 232.062\n",
      "INFO:tensorflow:loss = 0.49850744, step = 9501 (0.426 sec)\n",
      "INFO:tensorflow:global_step/sec: 216.591\n",
      "INFO:tensorflow:loss = 4.7755413, step = 9601 (0.462 sec)\n",
      "INFO:tensorflow:global_step/sec: 221.809\n",
      "INFO:tensorflow:loss = 2.6515024, step = 9701 (0.452 sec)\n",
      "INFO:tensorflow:global_step/sec: 222.6\n",
      "INFO:tensorflow:loss = 33.875988, step = 9801 (0.449 sec)\n",
      "INFO:tensorflow:global_step/sec: 218.02\n",
      "INFO:tensorflow:loss = 92.29264, step = 9901 (0.459 sec)\n",
      "INFO:tensorflow:Saving checkpoints for 10000 into C:\\Users\\HIYANA~1\\AppData\\Local\\Temp\\tmpnuii7xvh\\model.ckpt.\n",
      "INFO:tensorflow:Loss for final step: 2.4836657.\n"
     ]
    },
    {
     "data": {
      "text/plain": [
       "<tensorflow_estimator.python.estimator.canned.linear.LinearClassifier at 0x234990beba8>"
      ]
     },
     "execution_count": 27,
     "metadata": {},
     "output_type": "execute_result"
    }
   ],
   "source": [
    "model.train(input_fn=input_fun,steps=10000)"
   ]
  },
  {
   "cell_type": "code",
   "execution_count": 28,
   "metadata": {},
   "outputs": [],
   "source": [
    "pred_fun=tf.estimator.inputs.pandas_input_fn(x_test,batch_size=len(x_test),shuffle=False)"
   ]
  },
  {
   "cell_type": "code",
   "execution_count": 29,
   "metadata": {},
   "outputs": [
    {
     "name": "stdout",
     "output_type": "stream",
     "text": [
      "INFO:tensorflow:Calling model_fn.\n",
      "INFO:tensorflow:Done calling model_fn.\n",
      "INFO:tensorflow:Graph was finalized.\n",
      "INFO:tensorflow:Restoring parameters from C:\\Users\\HIYANA~1\\AppData\\Local\\Temp\\tmpnuii7xvh\\model.ckpt-10000\n",
      "INFO:tensorflow:Running local_init_op.\n",
      "INFO:tensorflow:Done running local_init_op.\n"
     ]
    }
   ],
   "source": [
    "pred=list(model.predict(input_fn=pred_fun))"
   ]
  },
  {
   "cell_type": "code",
   "execution_count": 31,
   "metadata": {},
   "outputs": [
    {
     "data": {
      "text/plain": [
       "{'logits': array([-1.643841], dtype=float32),\n",
       " 'logistic': array([0.16194305], dtype=float32),\n",
       " 'probabilities': array([0.8380569, 0.1619431], dtype=float32),\n",
       " 'class_ids': array([0], dtype=int64),\n",
       " 'classes': array([b'0'], dtype=object),\n",
       " 'all_class_ids': array([0, 1]),\n",
       " 'all_classes': array([b'0', b'1'], dtype=object)}"
      ]
     },
     "execution_count": 31,
     "metadata": {},
     "output_type": "execute_result"
    }
   ],
   "source": [
    "pred[0]"
   ]
  },
  {
   "cell_type": "code",
   "execution_count": 32,
   "metadata": {},
   "outputs": [],
   "source": [
    "final_preds=[]\n",
    "for pd in pred:\n",
    "    final_preds.append(pd['class_ids'][0])"
   ]
  },
  {
   "cell_type": "code",
   "execution_count": 33,
   "metadata": {},
   "outputs": [
    {
     "data": {
      "text/plain": [
       "[0, 0, 0, 0, 1, 0, 0, 0, 0, 0]"
      ]
     },
     "execution_count": 33,
     "metadata": {},
     "output_type": "execute_result"
    }
   ],
   "source": [
    "final_preds[:10]"
   ]
  },
  {
   "cell_type": "code",
   "execution_count": 34,
   "metadata": {},
   "outputs": [],
   "source": [
    "from sklearn.metrics import classification_report"
   ]
  },
  {
   "cell_type": "code",
   "execution_count": 36,
   "metadata": {},
   "outputs": [
    {
     "name": "stdout",
     "output_type": "stream",
     "text": [
      "              precision    recall  f1-score   support\n",
      "\n",
      "           0       0.88      0.93      0.90      7436\n",
      "           1       0.73      0.59      0.65      2333\n",
      "\n",
      "    accuracy                           0.85      9769\n",
      "   macro avg       0.80      0.76      0.78      9769\n",
      "weighted avg       0.84      0.85      0.84      9769\n",
      "\n"
     ]
    }
   ],
   "source": [
    "print(classification_report(y_test,final_preds))"
   ]
  },
  {
   "cell_type": "code",
   "execution_count": null,
   "metadata": {},
   "outputs": [],
   "source": []
  }
 ],
 "metadata": {
  "kernelspec": {
   "display_name": "Python 3",
   "language": "python",
   "name": "python3"
  },
  "language_info": {
   "codemirror_mode": {
    "name": "ipython",
    "version": 3
   },
   "file_extension": ".py",
   "mimetype": "text/x-python",
   "name": "python",
   "nbconvert_exporter": "python",
   "pygments_lexer": "ipython3",
   "version": "3.7.3"
  }
 },
 "nbformat": 4,
 "nbformat_minor": 2
}
